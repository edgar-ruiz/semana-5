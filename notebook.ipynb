{
 "cells": [
  {
   "cell_type": "markdown",
   "metadata": {},
   "source": [
    "## 1. Introducción\n",
    "<p>En la empresa Lego tienen un dicho: \"Todos aman a Lego (a menos que alguna vez hayas pisado uno)\". Por cierto, ¿sabías que \"Lego\" se deriva de la frase danesa leg godt, que significa \"juega bien\"?</p>\n",
    "<p>En este proyecto, analizaremos un fascinante conjunto de datos sobre cada bloque de Lego que se ha construido.</p>\n",
    "<p><img src=\"https://s3.amazonaws.com/assets.datacamp.com/production/project_10/datasets/lego-bricks.jpeg\" alt=\"lego\"></p>\n",
    "<p>Tenemos acceso a estos datos gracias a <a href=\"https://rebrickable.com/downloads/\">Rebrickable</a>. Los datos se encuentran en formato csv. A continuación te mostramos un esquema de la estructura de los datos. Cada recuadro es un archivo con la descripción de las variables.</p>\n",
    "<p><img src=\"https://s3.amazonaws.com/assets.datacamp.com/production/project_10/datasets/downloads_schema.png\" alt=\"schema\"></p>\n",
    "<p>¡Comencemos leyendo los datos de colores para tener una idea de la diversidad de Lego!</p>"
   ]
  },
  {
   "cell_type": "code",
   "execution_count": null,
   "metadata": {},
   "outputs": [],
   "source": [
    "# Importa pandas\n",
    "\n",
    "# Lee la información de la base colors\n",
    "\n",
    "\n",
    "# Imprime las primeras observaciones del dataframe\n"
   ]
  },
  {
   "cell_type": "markdown",
   "metadata": {},
   "source": [
    "## 2. Explorando la base Colors\n",
    "<p>Ahora que importamos la base <code>colors</code>, empecemos a explorarla contando el número de colores disponibles de bloques de Lego.</p>"
   ]
  },
  {
   "cell_type": "code",
   "execution_count": null,
   "metadata": {},
   "outputs": [],
   "source": [
    "# ¿Cuántos colores distintos hay?\n",
    "# Imprime el número de colores disponibles\n"
   ]
  },
  {
   "cell_type": "markdown",
   "metadata": {},
   "source": [
    "## 3. Colores transparentes en los Sets de Lego\n",
    "<p>La base <code>colors</code> tiene una columna llamada <code>is_trans</code> que indica si la figura es transparente o no. Sería interesante explorar la distribución entre transparentes y no trasparentes.</p>\n"
   ]
  },
  {
   "cell_type": "code",
   "execution_count": null,
   "metadata": {},
   "outputs": [],
   "source": [
    "# Crea el objeto colors_summary: con la distribución de colores\n",
    "# entre transparentes y no transparentes\n"
   ]
  },
  {
   "cell_type": "markdown",
   "metadata": {},
   "source": [
    "## 4. Explora los datos de sets\n",
    "<p>Otra base de datos muy interesante es <code>sets</code>. Contiene una lista completa de sets vendidos a lo largo de los años y el número de piezas que contiene cada uno de estos conjuntos. </p>\n",
    "<p><img src=\"https://imgur.com/1k4PoXs.png\" alt=\"sets_data\"></p>\n",
    "<p>Usemos estos datos para explorar cómo ha variado el número promedio de piezas en los conjuntos de Lego a lo largo de los años.</p>"
   ]
  },
  {
   "cell_type": "code",
   "execution_count": null,
   "metadata": {},
   "outputs": [],
   "source": [
    "%matplotlib inline\n",
    "# Lee la base con el nombre `sets`\n",
    "\n",
    "\n",
    "# Crea un objeto con el promedio de partes para cada año \n",
    "\n",
    "\n",
    "# Visualiza el comportamiento en una gráfica de línea\n",
    "\n"
   ]
  },
  {
   "cell_type": "markdown",
   "metadata": {},
   "source": [
    "## 5. Los temas de Lego\n",
    "<p>Lego vende productos de ciertos <a href=\"https://shop.lego.com/en-US/Themes\">temas</a>. Intentemos tener una idea de cómo ha variado la cantidad de temas enviados a lo largo de los años.</p>"
   ]
  },
  {
   "cell_type": "code",
   "execution_count": null,
   "metadata": {},
   "outputs": [],
   "source": [
    "# Crea un objeto que tenga el número de temas distintos por año\n"
   ]
  },
  {
   "cell_type": "markdown",
   "metadata": {},
   "source": [
    "## 6. Un resumen final\n",
    "<p>Los bloques de Lego ofrecen una cantidad ilimitada de diversión para todas las edades. Exploramos algunas tendencias interesantes en torno a colores, partes y temas. Antes de terminar, echemos un vistazo más de cerca al de <code>DataFrame</code> que creaste en el paso anterior.</p>"
   ]
  },
  {
   "cell_type": "code",
   "execution_count": null,
   "metadata": {},
   "outputs": [],
   "source": [
    "# Obtenga la cantidad de temas únicos lanzados en 1999\n",
    "\n",
    "\n",
    "# Imprima el dato anterior\n"
   ]
  }
 ],
 "metadata": {
  "kernelspec": {
   "display_name": "Python 3",
   "language": "python",
   "name": "python3"
  },
  "language_info": {
   "codemirror_mode": {
    "name": "ipython",
    "version": 3
   },
   "file_extension": ".py",
   "mimetype": "text/x-python",
   "name": "python",
   "nbconvert_exporter": "python",
   "pygments_lexer": "ipython3",
   "version": "3.8.5"
  }
 },
 "nbformat": 4,
 "nbformat_minor": 4
}
